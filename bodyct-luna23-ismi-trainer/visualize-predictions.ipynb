{
 "cells": [
  {
   "cell_type": "code",
   "execution_count": null,
   "metadata": {},
   "outputs": [],
   "source": [
    "import SimpleITK as sitk\n",
    "import numpy as np\n",
    "import matplotlib.pyplot as plt\n",
    "import seaborn as sns\n",
    "sns.set_style(\"white\")\n",
    "import pandas\n",
    "from pathlib import Path"
   ]
  },
  {
   "cell_type": "code",
   "execution_count": null,
   "metadata": {},
   "outputs": [],
   "source": [
    "workspace = Path(\"/code/bodyct-luna23-ismi-trainer/\")\n",
    "\n",
    "test_set_predictions_path = workspace / \"results\" / \"test_set_predictions\"\n",
    "test_set_images_path = workspace / \"data\" / \"test_set\" / \"images\"\n",
    "\n",
    "predictions = pandas.read_csv(test_set_predictions_path / \"predictions.csv\")"
   ]
  },
  {
   "cell_type": "code",
   "execution_count": null,
   "metadata": {},
   "outputs": [],
   "source": [
    "for idx, image_path in enumerate(list(test_set_images_path.glob(\"*.mha\"))):\n",
    "\n",
    "    noduleid = image_path.stem\n",
    "\n",
    "    pd = predictions[predictions.noduleid == noduleid].iloc[0]\n",
    "\n",
    "    image = sitk.ReadImage(str(image_path))\n",
    "    segmentation = sitk.ReadImage(str(test_set_predictions_path / \"segmentations\" / f\"{noduleid}.mha\"))\n",
    "\n",
    "    fig, ax = plt.subplots(1, 2, figsize=(6, 3), constrained_layout=True)\n",
    "\n",
    "    ax[0].imshow(sitk.GetArrayFromImage(image)[32], vmin=-1500, vmax=500, cmap=\"gray\")\n",
    "    \n",
    "    ax[1].imshow(sitk.GetArrayFromImage(image)[32], vmin=-1500, vmax=500, cmap=\"gray\")\n",
    "    ax[1].imshow(sitk.GetArrayFromImage(segmentation)[32], vmin=0, vmax=1, cmap=\"jet\", alpha=0.5)\n",
    "\n",
    "    ax[1].set_title(f\"malignancy: {pd.malignancy:.2f}, noduletype: {pd.noduletype}\")\n",
    "\n",
    "    [a.axis(\"off\") for a in ax]\n",
    "\n",
    "    # optionally: save these figures to disk and don't plot inline\n",
    "\n",
    "    if idx > 10: break"
   ]
  }
 ],
 "metadata": {
  "kernelspec": {
   "display_name": "Python 3",
   "language": "python",
   "name": "python3"
  },
  "language_info": {
   "codemirror_mode": {
    "name": "ipython",
    "version": 3
   },
   "file_extension": ".py",
   "mimetype": "text/x-python",
   "name": "python",
   "nbconvert_exporter": "python",
   "pygments_lexer": "ipython3",
   "version": "3.9.15"
  },
  "orig_nbformat": 4
 },
 "nbformat": 4,
 "nbformat_minor": 2
}
