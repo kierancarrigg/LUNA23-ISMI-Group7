{
 "cells": [
  {
   "cell_type": "code",
   "execution_count": null,
   "metadata": {},
   "outputs": [],
   "source": [
    "import numpy as np\n",
    "from pathlib import Path\n",
    "import matplotlib.pyplot as plt\n",
    "import seaborn as sns\n",
    "sns.set_style(\"white\")"
   ]
  },
  {
   "cell_type": "code",
   "execution_count": null,
   "metadata": {},
   "outputs": [],
   "source": [
    "workspace = Path(\"/code/bodyct-luna23-ismi-trainer/\")\n",
    "model_id = \"20230501_0_segmentation/fold0/\"\n",
    "tasks = [\"segmentation\"]"
   ]
  },
  {
   "cell_type": "code",
   "execution_count": null,
   "metadata": {},
   "outputs": [],
   "source": [
    "metrics = np.load(workspace / \"results\" / model_id / \"metrics.npy\", allow_pickle=True).item()\n",
    "\n",
    "for mode in [\"training\", \"validation\"]:\n",
    "    plt.figure()\n",
    "    for task in tasks:\n",
    "        plt.plot(\n",
    "            [metrics[mode][i][task][\"loss\"] for i in range(len(metrics[mode]))],\n",
    "            label=task,\n",
    "        )\n",
    "    plt.legend()\n",
    "    plt.title(f\"{mode} loss\")\n",
    "    plt.ylim([0, 2])\n",
    "    sns.despine()\n",
    "\n",
    "task_specific_metrics = {\n",
    "    \"segmentation\": \"dice\",\n",
    "    \"malignancy\": \"auc\",\n",
    "    \"noduletype\": \"balanced_accuracy\"\n",
    "}\n",
    "\n",
    "for mode in [\"training\", \"validation\"]:\n",
    "    plt.figure()\n",
    "    for task in tasks:\n",
    "        plt.plot(\n",
    "            [metrics[mode][i][task][task_specific_metrics[task]] for i in range(len(metrics[mode]))],\n",
    "            label=f\"{task} {task_specific_metrics[task]}\",\n",
    "        )\n",
    "    plt.legend()\n",
    "    plt.title(f\"{mode}\")\n",
    "    plt.ylim([0, 1])\n",
    "    sns.despine()"
   ]
  }
 ],
 "metadata": {
  "kernelspec": {
   "display_name": "Python 3",
   "language": "python",
   "name": "python3"
  },
  "language_info": {
   "codemirror_mode": {
    "name": "ipython",
    "version": 3
   },
   "file_extension": ".py",
   "mimetype": "text/x-python",
   "name": "python",
   "nbconvert_exporter": "python",
   "pygments_lexer": "ipython3",
   "version": "3.9.15"
  },
  "orig_nbformat": 4
 },
 "nbformat": 4,
 "nbformat_minor": 2
}
