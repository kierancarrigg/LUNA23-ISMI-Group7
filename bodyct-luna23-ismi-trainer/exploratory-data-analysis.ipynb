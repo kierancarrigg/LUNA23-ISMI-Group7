{
 "cells": [
  {
   "cell_type": "code",
   "execution_count": null,
   "metadata": {},
   "outputs": [],
   "source": [
    "import numpy as np\n",
    "import pandas\n",
    "from pathlib import Path\n",
    "import matplotlib.pyplot as plt\n",
    "import seaborn as sns\n",
    "import SimpleITK as sitk\n",
    "from dataloader import extract_patch\n",
    "sns.set_style(\"white\")"
   ]
  },
  {
   "attachments": {},
   "cell_type": "markdown",
   "metadata": {},
   "source": [
    "# Instructions\n",
    "\n",
    "1. Make sure to download the dataset: https://luna23-ismi.grand-challenge.org/datasets/\n",
    "2. Copy the zip file into a new folder at the root of your git repository and name it `data/`\n",
    "3. Extract the zip file inside this folder\n",
    "4. Make sure that the training images are inside `data/train_set/images/`"
   ]
  },
  {
   "cell_type": "code",
   "execution_count": null,
   "metadata": {},
   "outputs": [],
   "source": [
    "train_df = pandas.read_csv(\"data/luna23-ismi-train-set.csv\")\n",
    "train_images_path = Path(\"data/train_set/images/\")\n",
    "train_labels_path = Path(\"data/train_set/labels/\")"
   ]
  },
  {
   "cell_type": "code",
   "execution_count": null,
   "metadata": {},
   "outputs": [],
   "source": [
    "for i in range(5):\n",
    "\n",
    "    pd = train_df.iloc[i]\n",
    "\n",
    "    image = sitk.ReadImage(str(train_images_path / f\"{pd.noduleid}.mha\"))\n",
    "    label = sitk.ReadImage(str(train_labels_path / f\"{pd.noduleid}.mha\"))\n",
    "\n",
    "    image_patch, label_patch = extract_patch(\n",
    "        CTData=sitk.GetArrayFromImage(image),\n",
    "        coord=(32, 64, 64),\n",
    "        srcVoxelOrigin=(0, 0, 0),\n",
    "        srcWorldMatrix=np.array(np.flip(image.GetDirection())).reshape(3, 3),\n",
    "        srcVoxelSpacing=np.flip(image.GetSpacing()),\n",
    "        mask=sitk.GetArrayFromImage(label),\n",
    "    )\n",
    "\n",
    "    fig, ax = plt.subplots(3, 2, figsize=(6, 9), constrained_layout=True)\n",
    "    \n",
    "    ax[0, 0].imshow(image_patch[0, 32], vmin=-1500, vmax=500, cmap=\"gray\")\n",
    "    ax[0, 1].imshow(label_patch[0, 32], vmin=0, vmax=1, cmap=\"gray\")\n",
    "\n",
    "    ax[1, 0].imshow(image_patch[0, :, 32], vmin=-1500, vmax=500, cmap=\"gray\")\n",
    "    ax[1, 1].imshow(label_patch[0, :, 32], vmin=0, vmax=1, cmap=\"gray\")\n",
    "\n",
    "    ax[2, 0].imshow(image_patch[0, :, :, 32], vmin=-1500, vmax=500, cmap=\"gray\")\n",
    "    ax[2, 1].imshow(label_patch[0, :, :, 32], vmin=0, vmax=1, cmap=\"gray\")\n",
    "    \n",
    "    ax[0, 0].set_title(pd.noduletype)\n",
    "    ax[0, 1].set_title(f\"Malignancy: {pd.malignancy}\")\n",
    "\n",
    "    [ax[a][b].axis(\"off\") for a in range(3) for b in range(2)]"
   ]
  },
  {
   "cell_type": "code",
   "execution_count": null,
   "metadata": {},
   "outputs": [],
   "source": []
  }
 ],
 "metadata": {
  "kernelspec": {
   "display_name": "Python 3",
   "language": "python",
   "name": "python3"
  },
  "language_info": {
   "codemirror_mode": {
    "name": "ipython",
    "version": 3
   },
   "file_extension": ".py",
   "mimetype": "text/x-python",
   "name": "python",
   "nbconvert_exporter": "python",
   "pygments_lexer": "ipython3",
   "version": "3.9.15"
  },
  "orig_nbformat": 4
 },
 "nbformat": 4,
 "nbformat_minor": 2
}
